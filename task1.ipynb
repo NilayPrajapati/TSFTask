{
 "cells": [
  {
   "cell_type": "markdown",
   "id": "0f98f24d",
   "metadata": {},
   "source": [
    "# Author: Nilay Prajapati\n"
   ]
  },
  {
   "cell_type": "markdown",
   "id": "9e11255e",
   "metadata": {},
   "source": [
    "## Task1: Prediction Using Supervised Machine Learning."
   ]
  },
  {
   "cell_type": "markdown",
   "id": "e4e99349",
   "metadata": {},
   "source": [
    "The task is to predict the percentage of a student based on the number of study hours."
   ]
  },
  {
   "cell_type": "markdown",
   "id": "7b21d9e8",
   "metadata": {},
   "source": [
    "### Question: What will be the predicted Score if the student studies for 9.25 hours/day?"
   ]
  },
  {
   "cell_type": "markdown",
   "id": "3582eef3",
   "metadata": {},
   "source": [
    "The first thing we need to do is see the relation of the two given variables: hours and score. And we do this as follows:"
   ]
  },
  {
   "cell_type": "markdown",
   "id": "780a7e56",
   "metadata": {},
   "source": [
    "#### Step 1: Importing required libraries"
   ]
  },
  {
   "cell_type": "code",
   "execution_count": 15,
   "id": "96d13407",
   "metadata": {},
   "outputs": [
    {
     "name": "stdout",
     "output_type": "stream",
     "text": [
      "Libraries Successfully Imported!!\n"
     ]
    }
   ],
   "source": [
    "#Step1: The first step is to import the required libraries.\n",
    "import pandas as pd\n",
    "import numpy as np\n",
    "import matplotlib.pyplot as plt\n",
    "import seaborn as sns\n",
    "print(\"Libraries Successfully Imported!!\")"
   ]
  },
  {
   "cell_type": "markdown",
   "id": "c1426e4d",
   "metadata": {},
   "source": [
    "#### Step 2: Reading the dataset"
   ]
  },
  {
   "cell_type": "code",
   "execution_count": 16,
   "id": "34c5721a",
   "metadata": {},
   "outputs": [
    {
     "data": {
      "text/html": [
       "<div>\n",
       "<style scoped>\n",
       "    .dataframe tbody tr th:only-of-type {\n",
       "        vertical-align: middle;\n",
       "    }\n",
       "\n",
       "    .dataframe tbody tr th {\n",
       "        vertical-align: top;\n",
       "    }\n",
       "\n",
       "    .dataframe thead th {\n",
       "        text-align: right;\n",
       "    }\n",
       "</style>\n",
       "<table border=\"1\" class=\"dataframe\">\n",
       "  <thead>\n",
       "    <tr style=\"text-align: right;\">\n",
       "      <th></th>\n",
       "      <th>Hours</th>\n",
       "      <th>Scores</th>\n",
       "    </tr>\n",
       "  </thead>\n",
       "  <tbody>\n",
       "    <tr>\n",
       "      <th>0</th>\n",
       "      <td>2.5</td>\n",
       "      <td>21</td>\n",
       "    </tr>\n",
       "    <tr>\n",
       "      <th>1</th>\n",
       "      <td>5.1</td>\n",
       "      <td>47</td>\n",
       "    </tr>\n",
       "    <tr>\n",
       "      <th>2</th>\n",
       "      <td>3.2</td>\n",
       "      <td>27</td>\n",
       "    </tr>\n",
       "    <tr>\n",
       "      <th>3</th>\n",
       "      <td>8.5</td>\n",
       "      <td>75</td>\n",
       "    </tr>\n",
       "    <tr>\n",
       "      <th>4</th>\n",
       "      <td>3.5</td>\n",
       "      <td>30</td>\n",
       "    </tr>\n",
       "  </tbody>\n",
       "</table>\n",
       "</div>"
      ],
      "text/plain": [
       "   Hours  Scores\n",
       "0    2.5      21\n",
       "1    5.1      47\n",
       "2    3.2      27\n",
       "3    8.5      75\n",
       "4    3.5      30"
      ]
     },
     "execution_count": 16,
     "metadata": {},
     "output_type": "execute_result"
    }
   ],
   "source": [
    "#Step2: The second step is to read the dataset from the source.\n",
    "dataset_url=\"http://bit.ly/w-data\"\n",
    "dataset=pd.read_csv(dataset_url)\n",
    "dataset.head()"
   ]
  },
  {
   "cell_type": "markdown",
   "id": "1688eb17",
   "metadata": {},
   "source": [
    "#### Step 3: Exploring the dataset"
   ]
  },
  {
   "cell_type": "markdown",
   "id": "6e687c07",
   "metadata": {},
   "source": [
    "We will explore the dataset in two further steps. First will be knowing the structure of the dataset and the second will be knowing the statistical properties of the data set."
   ]
  },
  {
   "cell_type": "code",
   "execution_count": 17,
   "id": "e88fe39d",
   "metadata": {},
   "outputs": [
    {
     "name": "stdout",
     "output_type": "stream",
     "text": [
      "<class 'pandas.core.frame.DataFrame'>\n",
      "RangeIndex: 25 entries, 0 to 24\n",
      "Data columns (total 2 columns):\n",
      " #   Column  Non-Null Count  Dtype  \n",
      "---  ------  --------------  -----  \n",
      " 0   Hours   25 non-null     float64\n",
      " 1   Scores  25 non-null     int64  \n",
      "dtypes: float64(1), int64(1)\n",
      "memory usage: 528.0 bytes\n"
     ]
    },
    {
     "data": {
      "text/html": [
       "<div>\n",
       "<style scoped>\n",
       "    .dataframe tbody tr th:only-of-type {\n",
       "        vertical-align: middle;\n",
       "    }\n",
       "\n",
       "    .dataframe tbody tr th {\n",
       "        vertical-align: top;\n",
       "    }\n",
       "\n",
       "    .dataframe thead th {\n",
       "        text-align: right;\n",
       "    }\n",
       "</style>\n",
       "<table border=\"1\" class=\"dataframe\">\n",
       "  <thead>\n",
       "    <tr style=\"text-align: right;\">\n",
       "      <th></th>\n",
       "      <th>Hours</th>\n",
       "      <th>Scores</th>\n",
       "    </tr>\n",
       "  </thead>\n",
       "  <tbody>\n",
       "    <tr>\n",
       "      <th>count</th>\n",
       "      <td>25.000000</td>\n",
       "      <td>25.000000</td>\n",
       "    </tr>\n",
       "    <tr>\n",
       "      <th>mean</th>\n",
       "      <td>5.012000</td>\n",
       "      <td>51.480000</td>\n",
       "    </tr>\n",
       "    <tr>\n",
       "      <th>std</th>\n",
       "      <td>2.525094</td>\n",
       "      <td>25.286887</td>\n",
       "    </tr>\n",
       "    <tr>\n",
       "      <th>min</th>\n",
       "      <td>1.100000</td>\n",
       "      <td>17.000000</td>\n",
       "    </tr>\n",
       "    <tr>\n",
       "      <th>25%</th>\n",
       "      <td>2.700000</td>\n",
       "      <td>30.000000</td>\n",
       "    </tr>\n",
       "    <tr>\n",
       "      <th>50%</th>\n",
       "      <td>4.800000</td>\n",
       "      <td>47.000000</td>\n",
       "    </tr>\n",
       "    <tr>\n",
       "      <th>75%</th>\n",
       "      <td>7.400000</td>\n",
       "      <td>75.000000</td>\n",
       "    </tr>\n",
       "    <tr>\n",
       "      <th>max</th>\n",
       "      <td>9.200000</td>\n",
       "      <td>95.000000</td>\n",
       "    </tr>\n",
       "  </tbody>\n",
       "</table>\n",
       "</div>"
      ],
      "text/plain": [
       "           Hours     Scores\n",
       "count  25.000000  25.000000\n",
       "mean    5.012000  51.480000\n",
       "std     2.525094  25.286887\n",
       "min     1.100000  17.000000\n",
       "25%     2.700000  30.000000\n",
       "50%     4.800000  47.000000\n",
       "75%     7.400000  75.000000\n",
       "max     9.200000  95.000000"
      ]
     },
     "execution_count": 17,
     "metadata": {},
     "output_type": "execute_result"
    }
   ],
   "source": [
    "#Step3: The third step is to explore the data in the above mentioned two ways\n",
    "dataset.info()\n",
    "dataset.describe()"
   ]
  },
  {
   "cell_type": "markdown",
   "id": "d03d26b7",
   "metadata": {},
   "source": [
    "Here, we see that our dataset comprises of two columns i.e. it has two variables Hours and Scores.Hours is a float type variable while the score is of integer type. Also, the dataset has 25 entries and thus we have 25 observation in each of the above two columns. Now note that all 25 observations are non-null which means that there is no missing observation in our data.\n",
    "Now the mean number of hours spent studying is 5.01 with a standard deviation of 2.53  while the mean score obtained is 51.48 with the standard deviation 25.29."
   ]
  },
  {
   "cell_type": "markdown",
   "id": "46d43a62",
   "metadata": {},
   "source": [
    "#### Step 4: Analysing the relationship between the two variables"
   ]
  },
  {
   "cell_type": "markdown",
   "id": "022e94d9",
   "metadata": {},
   "source": [
    "To analyse the relation ship between the two given variables hours and time the simplest way is to do it using a scatter plot. "
   ]
  },
  {
   "cell_type": "code",
   "execution_count": 18,
   "id": "86e4d148",
   "metadata": {},
   "outputs": [
    {
     "data": {
      "text/plain": [
       "Text(0.5, 1.0, 'Scatter plot for Hours and Scores')"
      ]
     },
     "execution_count": 18,
     "metadata": {},
     "output_type": "execute_result"
    },
    {
     "data": {
      "image/png": "[encoded data removed]",
      "text/plain": [
       "<Figure size 432x288 with 1 Axes>"
      ]
     },
     "metadata": {
      "needs_background": "light"
     },
     "output_type": "display_data"
    }
   ],
   "source": [
    "#step4: The fourth step is to analyse the relationship between the variables by plotting a scatter plot\n",
    "sns.scatterplot(x=\"Hours\",y=\"Scores\", data=dataset)\n",
    "plt.title(\"Scatter plot for Hours and Scores\")\n"
   ]
  },
  {
   "cell_type": "markdown",
   "id": "a9097163",
   "metadata": {},
   "source": [
    "#### Step 5: Data Preparation"
   ]
  },
  {
   "cell_type": "markdown",
   "id": "d43dbbb9",
   "metadata": {},
   "source": [
    "First, of all we will reshape our data to divide it into attributes and labels. And then we will split our data into the training and testing sets which will further be used for training the algorithm. To do this we will use sklearn (Scikit-Learn) library's built-in train_test_split() method."
   ]
  },
  {
   "cell_type": "code",
   "execution_count": 19,
   "id": "1cf462b6",
   "metadata": {},
   "outputs": [],
   "source": [
    "#Step 5(a): First in the fifth step will be reshaping our data\n",
    "x=dataset.iloc[:,:-1]\n",
    "y=dataset.iloc[:,1]"
   ]
  },
  {
   "cell_type": "code",
   "execution_count": 20,
   "id": "85caa075",
   "metadata": {},
   "outputs": [],
   "source": [
    "#Step 5(b): second in the fifth step is splitting the data into testing and training sets and training the algorithm.\n",
    "from sklearn.model_selection import train_test_split\n",
    "x_train,x_test,y_train,y_test=train_test_split(x,y,test_size=0.2,random_state=0)"
   ]
  },
  {
   "cell_type": "markdown",
   "id": "3ab2d03a",
   "metadata": {},
   "source": [
    "Here, we use a test size of 0.2 which means that 20% of the data will be used for testing."
   ]
  },
  {
   "cell_type": "markdown",
   "id": "68dc9ebf",
   "metadata": {},
   "source": [
    "#### Step 6: Training the Algorithm"
   ]
  },
  {
   "cell_type": "code",
   "execution_count": 21,
   "id": "38c38ef5",
   "metadata": {},
   "outputs": [
    {
     "name": "stdout",
     "output_type": "stream",
     "text": [
      "Training of the Algorithm is complete!\n"
     ]
    }
   ],
   "source": [
    "#step6: In the sixth step we will train the algorithm\n",
    "from sklearn.linear_model import LinearRegression  \n",
    "model = LinearRegression()  \n",
    "model.fit(x_train.values, y_train.values) \n",
    "y_predicted=model.predict(x_train.values)\n",
    "print(\"Training of the Algorithm is complete!\")"
   ]
  },
  {
   "cell_type": "markdown",
   "id": "11c31b1c",
   "metadata": {},
   "source": [
    "#### Step 7: Forming the Regression equation"
   ]
  },
  {
   "cell_type": "code",
   "execution_count": 22,
   "id": "ca7756f7",
   "metadata": {},
   "outputs": [
    {
     "name": "stdout",
     "output_type": "stream",
     "text": [
      "Thus, the regression equation is:-\n",
      "y= 2.0181600414346974  + [9.91065648] *x\n"
     ]
    }
   ],
   "source": [
    "#we extract the value of the intercept and the slope using the linear regression method and for \n",
    "α = model.intercept_\n",
    "β = model.coef_\n",
    "print(\"Thus, the regression equation is:-\")\n",
    "print (\"y=\",α,\" +\",β,\"*x\")"
   ]
  },
  {
   "cell_type": "markdown",
   "id": "11df9de0",
   "metadata": {},
   "source": [
    "#### Step 8: Plotting the regression line"
   ]
  },
  {
   "cell_type": "code",
   "execution_count": 23,
   "id": "0ec943c3",
   "metadata": {},
   "outputs": [
    {
     "data": {
      "text/plain": [
       "Text(0.5, 1.0, 'Regression Plot(Hours Vs Scoore)')"
      ]
     },
     "execution_count": 23,
     "metadata": {},
     "output_type": "execute_result"
    },
    {
     "data": {
      "image/png": "[encoded data removed]",
      "text/plain": [
       "<Figure size 432x288 with 1 Axes>"
      ]
     },
     "metadata": {
      "needs_background": "light"
     },
     "output_type": "display_data"
    }
   ],
   "source": [
    "#step8: to plot the regression plot we use the seaborn library\n",
    "sns.regplot(x=\"Hours\",y=\"Scores\", data=dataset, color=\"g\")\n",
    "plt.title(\"Regression Plot(Hours Vs Scoore)\")"
   ]
  },
  {
   "cell_type": "markdown",
   "id": "77546540",
   "metadata": {},
   "source": [
    "#### Step 9: Prediction for the test dataset"
   ]
  },
  {
   "cell_type": "markdown",
   "id": "da3013c9",
   "metadata": {},
   "source": [
    "Now we will use the test data split for predicting the scores using the model we obtained from the train split. We know that there 20% of the data was used for the test split and thus 5 observations would be there in the test split for which we will predict the values using the model."
   ]
  },
  {
   "cell_type": "code",
   "execution_count": 24,
   "id": "5f4f84d2",
   "metadata": {},
   "outputs": [
    {
     "name": "stdout",
     "output_type": "stream",
     "text": [
      "The predicted score based on the test dataset is:- [16.88414476 33.73226078 75.357018   26.79480124 60.49103328]\n"
     ]
    }
   ],
   "source": [
    "#step9: Prediction for the test data set using the model.predict()\n",
    "y_predict=model.predict(x_test.values)\n",
    "print(\"The predicted score based on the test dataset is:-\", y_predict)"
   ]
  },
  {
   "cell_type": "markdown",
   "id": "7e30f99a",
   "metadata": {},
   "source": [
    "#### Step 10: Comparison the actual and predicted values"
   ]
  },
  {
   "cell_type": "markdown",
   "id": "32292049",
   "metadata": {},
   "source": [
    "Let, us compare the predicted scores of the test dataset with their orginical scores. To do this we will create a dataframe with the two columns of predicted score and test score."
   ]
  },
  {
   "cell_type": "code",
   "execution_count": 25,
   "id": "f8520d29",
   "metadata": {},
   "outputs": [
    {
     "data": {
      "text/html": [
       "<div>\n",
       "<style scoped>\n",
       "    .dataframe tbody tr th:only-of-type {\n",
       "        vertical-align: middle;\n",
       "    }\n",
       "\n",
       "    .dataframe tbody tr th {\n",
       "        vertical-align: top;\n",
       "    }\n",
       "\n",
       "    .dataframe thead th {\n",
       "        text-align: right;\n",
       "    }\n",
       "</style>\n",
       "<table border=\"1\" class=\"dataframe\">\n",
       "  <thead>\n",
       "    <tr style=\"text-align: right;\">\n",
       "      <th></th>\n",
       "      <th>Actual</th>\n",
       "      <th>Predicted</th>\n",
       "    </tr>\n",
       "  </thead>\n",
       "  <tbody>\n",
       "    <tr>\n",
       "      <th>5</th>\n",
       "      <td>20</td>\n",
       "      <td>16.884145</td>\n",
       "    </tr>\n",
       "    <tr>\n",
       "      <th>2</th>\n",
       "      <td>27</td>\n",
       "      <td>33.732261</td>\n",
       "    </tr>\n",
       "    <tr>\n",
       "      <th>19</th>\n",
       "      <td>69</td>\n",
       "      <td>75.357018</td>\n",
       "    </tr>\n",
       "    <tr>\n",
       "      <th>16</th>\n",
       "      <td>30</td>\n",
       "      <td>26.794801</td>\n",
       "    </tr>\n",
       "    <tr>\n",
       "      <th>11</th>\n",
       "      <td>62</td>\n",
       "      <td>60.491033</td>\n",
       "    </tr>\n",
       "  </tbody>\n",
       "</table>\n",
       "</div>"
      ],
      "text/plain": [
       "    Actual  Predicted\n",
       "5       20  16.884145\n",
       "2       27  33.732261\n",
       "19      69  75.357018\n",
       "16      30  26.794801\n",
       "11      62  60.491033"
      ]
     },
     "execution_count": 25,
     "metadata": {},
     "output_type": "execute_result"
    }
   ],
   "source": [
    "#Step 10 (a): comparing actual and predicted scores of the students\n",
    "Comparison_set= pd.DataFrame({\"Actual\":y_test,\"Predicted\":y_predict})\n",
    "Comparison_set"
   ]
  },
  {
   "cell_type": "code",
   "execution_count": 26,
   "id": "959d30d9",
   "metadata": {},
   "outputs": [
    {
     "data": {
      "text/plain": [
       "Text(0.5, 1.0, 'Comparison plot')"
      ]
     },
     "execution_count": 26,
     "metadata": {},
     "output_type": "execute_result"
    },
    {
     "data": {
      "image/png": "[encoded data removed]",
      "text/plain": [
       "<Figure size 432x288 with 1 Axes>"
      ]
     },
     "metadata": {
      "needs_background": "light"
     },
     "output_type": "display_data"
    }
   ],
   "source": [
    "#Step 10 (b): We should compare it visually with a bar graph to get a better understanding of the difference\n",
    "Comparison_set.plot(kind=\"bar\", color=(\"r\",\"black\"))\n",
    "plt.xlabel(\"Index of the test score\")\n",
    "plt.ylabel(\"Score\")\n",
    "plt.title(\"Comparison plot\")\n"
   ]
  },
  {
   "cell_type": "markdown",
   "id": "f87050ac",
   "metadata": {},
   "source": [
    "we see that the acutal and predicted scores of the model are about the same with minute difference which results in mean square error stating the the model is not 100% accurate."
   ]
  },
  {
   "cell_type": "markdown",
   "id": "53856ec0",
   "metadata": {},
   "source": [
    "#### Step 11: Checking the model accuracy "
   ]
  },
  {
   "cell_type": "markdown",
   "id": "9e0df2b0",
   "metadata": {},
   "source": [
    "The accuracy of the model is 94.5% which is pretty high."
   ]
  },
  {
   "cell_type": "code",
   "execution_count": 27,
   "id": "da8520f6",
   "metadata": {},
   "outputs": [
    {
     "name": "stdout",
     "output_type": "stream",
     "text": [
      "Mean Absolute Error:- 4.183859899002975\n",
      "Mean Squared Error(MSE):- 21.598769307217406\n",
      "Root Mean Square error(RMSE):= 4.647447612100367\n",
      "R-square:- 0.9454906892105355\n"
     ]
    }
   ],
   "source": [
    "#step 11: now we will check the fit of the regression model using the following attributes:\n",
    "from sklearn import metrics\n",
    "print(\"Mean Absolute Error:-\", metrics.mean_absolute_error(y_test,y_predict))\n",
    "print(\"Mean Squared Error(MSE):-\", metrics.mean_squared_error(y_test,y_predict))\n",
    "print(\"Root Mean Square error(RMSE):=\",np.sqrt(metrics.mean_squared_error(y_test,y_predict)))\n",
    "print(\"R-square:-\", metrics.r2_score(y_test,y_predict))"
   ]
  },
  {
   "cell_type": "markdown",
   "id": "e8868edd",
   "metadata": {},
   "source": [
    "Mean square error is the average squared difference between the estimated values and the actual value. Here we see that MSE is 21.5988 which is not very high since it is the squared value and thus a root mean square error of 4.6574 is also not much."
   ]
  },
  {
   "cell_type": "markdown",
   "id": "f4abdf93",
   "metadata": {},
   "source": [
    "The R-square value called the coefficient of determination estimates the population proportion of variability in the outcome variable which is accounted by the model. Value close to 1 indicate a good deal of predictive power of the model. And here we see that the r-square value is about 0.95 which indicates a good predictive power of the model. "
   ]
  },
  {
   "cell_type": "markdown",
   "id": "a3359fc4",
   "metadata": {},
   "source": [
    "#### Step 12: Solution Step: Predicting the Score of the student who studies for 9.25 hours/day."
   ]
  },
  {
   "cell_type": "code",
   "execution_count": 28,
   "id": "cfa30009",
   "metadata": {},
   "outputs": [
    {
     "name": "stdout",
     "output_type": "stream",
     "text": [
      "Score:- 94.0\n"
     ]
    }
   ],
   "source": [
    "#Step12: Here, we will predict the percentage score of the student who studies for 9.25 hours per day by using the predict method we used to predict the test set\n",
    "x=9.25\n",
    "model.predict([[9.25]])\n",
    "#Now as the scores are given as integers thus, we convert this to an integer\n",
    "result=float(model.predict([[9.25]]))\n",
    "print(\"Score:-\",round(result,0))\n"
   ]
  },
  {
   "cell_type": "markdown",
   "id": "a7be9707",
   "metadata": {},
   "source": [
    "## Conclusion:- "
   ]
  },
  {
   "cell_type": "markdown",
   "id": "fd494dc7",
   "metadata": {},
   "source": [
    "### After fiiting the regression model: for the hours spent studying (independent variable,x) and the score obtained (dependent variable,y) we get a regression equation:\n",
    "### y = 2.02 + 9.91x \n",
    "### which has a predictive powe of  94.5%.\n",
    "### Thus, we predict the score of the student who studies for 9.25 hours per day to be 94\n"
   ]
  },
  {
   "cell_type": "markdown",
   "id": "ddb7cc97",
   "metadata": {},
   "source": [
    "# Thank You!"
   ]
  },
  {
   "cell_type": "code",
   "execution_count": null,
   "id": "4ae9912c",
   "metadata": {},
   "outputs": [],
   "source": []
  },
  {
   "cell_type": "code",
   "execution_count": null,
   "id": "3ab50d0e",
   "metadata": {},
   "outputs": [],
   "source": []
  }
 ],
 "metadata": {
  "kernelspec": {
   "display_name": "Python 3",
   "language": "python",
   "name": "python3"
  },
  "language_info": {
   "codemirror_mode": {
    "name": "ipython",
    "version": 3
   },
   "file_extension": ".py",
   "mimetype": "text/x-python",
   "name": "python",
   "nbconvert_exporter": "python",
   "pygments_lexer": "ipython3",
   "version": "3.8.8"
  }
 },
 "nbformat": 4,
 "nbformat_minor": 5
}
